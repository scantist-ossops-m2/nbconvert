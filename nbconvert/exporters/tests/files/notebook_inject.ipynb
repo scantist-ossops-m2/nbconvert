{
 "cells": [
  {
   "cell_type": "code",
   "execution_count": null,
   "id": "79aede83-fba6-4715-bce6-9f3926b128a2",
   "metadata": {
     "tags": ["FOO\"><script>alert('cell_tag')</script><div \""]
   },
   "outputs": [],
   "source": []
  },
  {
    "cell_type": "raw",
    "id": "372c2bf1",
    "metadata": {},
    "source": [
     "Payload in raw cell <script>alert('raw cell')</script>"
    ]
  },
  {
    "cell_type": "markdown",
    "id": "2d42de4a",
    "metadata": {},
    "source": [
      "<script>alert('markdown cell')</script>"
    ]
  },
  {
    "cell_type": "code",
    "execution_count": null,
    "id": "b72e53fa",
    "metadata": {},
    "outputs": [
      {
        "output_type": "execute_result",
        "data": {
          "image/svg+xml": ["<script>alert('image/svg+xml output')</script>"]
        },
        "execution_count": null,
        "metadata": {}
      }
    ],
    "source": [""]
   },
   {
    "cell_type": "code",
    "execution_count": null,
    "id": "64d5d39f",
    "metadata": {},
    "outputs": [
      {
        "output_type": "execute_result",
        "svg_filename": "\"><script>alert('svg_filename')</script>",
        "data": {
          "image/svg+xml": [""]
        },
        "execution_count": null,
        "metadata": {}
      }
    ],
    "source": [""]
   },
   {
    "cell_type": "code",
    "execution_count": null,
    "id": "b72e63fa",
    "metadata": {},
    "outputs": [
      {
        "output_type": "execute_result",
        "data": {
          "image/png": [""]
        },
        "execution_count": null,
        "metadata": {
          "filenames": {
              "image/png": "\"><script>alert('png filenames')</script>"
          }
        }
      }
    ],
    "source": [""]
   },
   {
    "cell_type": "code",
    "execution_count": null,
    "id": "b72e63f3",
    "metadata": {},
    "outputs": [
      {
        "output_type": "execute_result",
        "data": {
          "image/jpeg": [""]
        },
        "execution_count": null,
        "metadata": {
          "filenames": {
              "image/jpeg": "\"><script>alert('jpg filenames')</script>"
          }
        }
      }
    ],
    "source": [""]
   },
   {
    "cell_type": "code",
    "execution_count": null,
    "id": "b72e635a",
    "metadata": {},
    "outputs": [
      {
        "output_type": "execute_result",
        "data": {
          "image/png": ["\"><script>alert('image/png output')</script>"]
        },
        "execution_count": null,
        "metadata": {}
      }
    ],
    "source": [""]
   },
   {
    "cell_type": "code",
    "execution_count": null,
    "id": "p72e635a",
    "metadata": {},
    "outputs": [
      {
        "output_type": "execute_result",
        "data": {
          "image/jpeg": ["\"><script>alert('image/jpeg output')</script>"]
        },
        "execution_count": null,
        "metadata": {}
      }
    ],
    "source": [""]
   },
   {
    "cell_type": "code",
    "execution_count": null,
    "id": "d72e635a",
    "metadata": {},
    "outputs": [
      {
        "output_type": "execute_result",
        "data": {
         "image/png": ["abcd"]
        },
        "execution_count": null,
        "metadata": {
           "width": "><script>alert('output.metadata.width png injection')</script>"
        }
      }
    ],
    "source": [""]
   },
   {
    "cell_type": "code",
    "execution_count": null,
    "id": "d72e635a",
    "metadata": {},
    "outputs": [
      {
        "output_type": "execute_result",
        "data": {
         "image/png": ["abcd"]
        },
        "execution_count": null,
        "metadata": {
           "height": "><script>alert('output.metadata.height png injection')</script>"
        }
      }
    ],
    "source": [""]
   }
 ],
 "metadata": {
  "title": "TITLE</title><script>alert('title')</script>",
  "kernelspec": {
   "display_name": "Python 3 (ipykernel)",
   "language": "python",
   "name": "python3"
  },
  "language_info": {
   "codemirror_mode": {
    "name": "ipython",
    "version": 3
   },
   "file_extension": ".py",
   "mimetype": "text/x-python",
   "name": "python",
   "nbconvert_exporter": "python",
   "pygments_lexer": "ipython3",
   "version": "3.10.5"
  },
  "widgets": {
    "application/vnd.jupyter.widget-state+json": {"state": "{}", "foo": "pwntester</script><script>alert('widgets');//"}
  }
 },
 "nbformat": 4,
 "nbformat_minor": 5
}
