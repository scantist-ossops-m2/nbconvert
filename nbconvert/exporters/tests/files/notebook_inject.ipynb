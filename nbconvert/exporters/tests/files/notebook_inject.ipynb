{
 "cells": [
  {
   "cell_type": "code",
   "execution_count": null,
   "id": "79aede83-fba6-4715-bce6-9f3926b128a2",
   "metadata": {
     "tags": ["FOO\"><script>alert('cell_tag')</script><div \""]
   },
   "outputs": [],
   "source": []
  }
 ],
 "metadata": {
  "title": "TITLE</title><script>alert('title')</script>",
  "kernelspec": {
   "display_name": "Python 3 (ipykernel)",
   "language": "python",
   "name": "python3"
  },
  "language_info": {
   "codemirror_mode": {
    "name": "ipython",
    "version": 3
   },
   "file_extension": ".py",
   "mimetype": "text/x-python",
   "name": "python",
   "nbconvert_exporter": "python",
   "pygments_lexer": "ipython3",
   "version": "3.10.5"
  },
  "widgets": {
    "application/vnd.jupyter.widget-state+json": {"foo": "pwntester</script><script>alert('widgets');//"}
  }
 },
 "nbformat": 4,
 "nbformat_minor": 5
}
